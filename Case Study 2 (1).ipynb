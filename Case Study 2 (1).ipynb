{
 "cells": [
  {
   "cell_type": "code",
   "execution_count": null,
   "id": "f921353b",
   "metadata": {},
   "outputs": [],
   "source": [
    "1. Write a Python function to sum all the numbers in a list. (Create a list and\n",
    "get list elements from user)"
   ]
  },
  {
   "cell_type": "code",
   "execution_count": 5,
   "id": "fcf10616",
   "metadata": {},
   "outputs": [
    {
     "name": "stdout",
     "output_type": "stream",
     "text": [
      "Enter number of elements : 5\n",
      "Enter elements of the list : \n",
      "10\n",
      "5\n",
      "4\n",
      "6\n",
      "15\n",
      "Sum of all numbers in list 40\n"
     ]
    }
   ],
   "source": [
    "#Function to get sum\n",
    "def lst_sum(lst):\n",
    "    total = 0\n",
    "    for x in lst:\n",
    "        total += x\n",
    "    print(\"Sum of all numbers in list\",total)\n",
    "\n",
    "#main\n",
    "lst=[]\n",
    "n = int(input(\"Enter number of elements : \"))\n",
    "print(\"Enter elements of the list : \")\n",
    "for i in range(0, n):\n",
    "    ele = int(input())\n",
    "    lst.append(ele) \n",
    "    \n",
    "lst_sum(lst)"
   ]
  },
  {
   "cell_type": "code",
   "execution_count": null,
   "id": "8e0ec3dd",
   "metadata": {},
   "outputs": [],
   "source": [
    "2. Write a Python function that checks whether a passed string is\n",
    "palindrome or not."
   ]
  },
  {
   "cell_type": "code",
   "execution_count": 10,
   "id": "d1e0c02e",
   "metadata": {},
   "outputs": [
    {
     "name": "stdout",
     "output_type": "stream",
     "text": [
      "Enter a string : Malayalam\n",
      "String is palindrome\n"
     ]
    }
   ],
   "source": [
    "def isPalindrome(s):\n",
    "    s=s.lower()\n",
    "    if (s == s[::-1]):\n",
    "        print(\"String is palindrome\")\n",
    "    else:\n",
    "        print(\"String is not palindrome\")\n",
    "\n",
    "s = input(\"Enter a string : \")\n",
    "isPalindrome(s)"
   ]
  },
  {
   "cell_type": "code",
   "execution_count": null,
   "id": "d5b53bed",
   "metadata": {},
   "outputs": [],
   "source": [
    "3. Write a Python recursive function to find the Fibonacci series. Get the limit\n",
    "from the user"
   ]
  },
  {
   "cell_type": "code",
   "execution_count": 17,
   "id": "924de38c",
   "metadata": {},
   "outputs": [
    {
     "name": "stdout",
     "output_type": "stream",
     "text": [
      "How many numbers the user wants to print : 10\n",
      "34\n"
     ]
    }
   ],
   "source": [
    "def fibo(n):\n",
    "    if n <= 1:\n",
    "        return n\n",
    "    else:\n",
    "        return(fibo(n-1) + fibo(n-2))\n",
    "\n",
    "n_range = int(input (\"How many numbers the user wants to print : \"))\n",
    "if n_range <= 0:\n",
    "    print(\"Plese enter a positive integer\")\n",
    "else:\n",
    "    #print(\"Fibonacci sequence:\")\n",
    "    #for i in range(n_range):\n",
    "    print(fibo(i))"
   ]
  },
  {
   "cell_type": "code",
   "execution_count": null,
   "id": "72421dd4",
   "metadata": {},
   "outputs": [],
   "source": [
    "4. Write a Python recursive function to print the multiplication table of\n",
    "given number"
   ]
  },
  {
   "cell_type": "code",
   "execution_count": 20,
   "id": "c50a1c5f",
   "metadata": {},
   "outputs": [
    {
     "name": "stdout",
     "output_type": "stream",
     "text": [
      "which number's table to print : 5\n",
      "5 * 1 = 5\n",
      "5 * 2 = 10\n",
      "5 * 3 = 15\n",
      "5 * 4 = 20\n",
      "5 * 5 = 25\n",
      "5 * 6 = 30\n",
      "5 * 7 = 35\n",
      "5 * 8 = 40\n",
      "5 * 9 = 45\n",
      "5 * 10 = 50\n"
     ]
    }
   ],
   "source": [
    "def mul_table(N, i):\n",
    "    if (i > 10):\n",
    "        return\n",
    "    print(N,\"*\",i,\"=\",N * i)\n",
    "    return mul_table(N, i + 1)\n",
    "\n",
    "N = int(input (\"which number's table to print : \"))\n",
    "mul_table(N, 1)"
   ]
  },
  {
   "cell_type": "code",
   "execution_count": null,
   "id": "b69197e9",
   "metadata": {},
   "outputs": [],
   "source": [
    "5. Define a function which counts vowels and consonant in a word."
   ]
  },
  {
   "cell_type": "code",
   "execution_count": 36,
   "id": "e96f0731",
   "metadata": {},
   "outputs": [
    {
     "name": "stdout",
     "output_type": "stream",
     "text": [
      "Enter the word : abhiram\n",
      "Number of vowels : 3\n",
      "Number of consonants : 4\n"
     ]
    }
   ],
   "source": [
    "def count_vow(word):\n",
    "    word=word.lower()\n",
    "    vowels = \"aeiou\"\n",
    "    final = [each for each in word if each in vowels]\n",
    "    print(\"Number of vowels :\",len(final))\n",
    "    print(\"Number of consonants :\",len(word)-len(final))\n",
    "     \n",
    "word= input(\"Enter the word : \")\n",
    "count_vow(word)"
   ]
  },
  {
   "cell_type": "code",
   "execution_count": null,
   "id": "bd14af26",
   "metadata": {},
   "outputs": [],
   "source": [
    "6. Define a function that accepts lowercase words and returns uppercase\n",
    "words."
   ]
  },
  {
   "cell_type": "code",
   "execution_count": 1,
   "id": "a138103f",
   "metadata": {},
   "outputs": [
    {
     "name": "stdout",
     "output_type": "stream",
     "text": [
      "Enter the word : abhiram\n",
      "Word in uppercase : ABHIRAM\n"
     ]
    }
   ],
   "source": [
    "def to_upper(string):\n",
    "    string=string.upper()\n",
    "    return string\n",
    "\n",
    "word= input(\"Enter the word : \")\n",
    "print(\"Word in uppercase :\",to_upper(word))"
   ]
  },
  {
   "cell_type": "code",
   "execution_count": null,
   "id": "af1e7bfa",
   "metadata": {},
   "outputs": [],
   "source": [
    "7. Write a Python program to remove ‘None’ values from a given list using\n",
    "the lambda function"
   ]
  },
  {
   "cell_type": "code",
   "execution_count": 3,
   "id": "66bade0f",
   "metadata": {},
   "outputs": [
    {
     "name": "stdout",
     "output_type": "stream",
     "text": [
      "The original list is :  [12, 0, None, 23, None, -55, 234, 89, None, 0, 6, -12]\n",
      "List after removal of None values :  [12, 0, 23, -55, 234, 89, 0, 6, -12]\n"
     ]
    }
   ],
   "source": [
    "test_list = [12, 0, None, 23, None, -55, 234, 89, None, 0, 6, -12]\n",
    "print (\"The original list is : \" ,test_list)\n",
    "res = list(filter(lambda item: item is not None, test_list))\n",
    "print (\"List after removal of None values : \" ,res)"
   ]
  },
  {
   "cell_type": "code",
   "execution_count": null,
   "id": "574bb7d8",
   "metadata": {},
   "outputs": [],
   "source": [
    "8. Write a Rectangle class in Python language, allowing you to build a\n",
    "rectangle with length and width attributes.\n",
    "    a. Create a Perimeter() method to calculate the perimeter of the\n",
    "    rectangle and a Area() method to calculate the area of the rectangle.\n",
    "    b. Create a method display() that display the length, width, perimeter\n",
    "    and area of an object created using an instantiation on rectangle\n",
    "    class.\n",
    "    c. Create a Parallelepiped child class inheriting from the Rectangle\n",
    "    class and with a height attribute and another Volume() method to\n",
    "    calculate the volume of the Parallelepiped"
   ]
  },
  {
   "cell_type": "code",
   "execution_count": 7,
   "id": "b3845036",
   "metadata": {},
   "outputs": [
    {
     "name": "stdout",
     "output_type": "stream",
     "text": [
      "Enter length of of rectangle : 7\n",
      "Enter width of rectangle : 5\n",
      "The length of rectangle is:  7\n",
      "The width of rectangle is:  5\n",
      "The perimeter of rectangle is:  24\n",
      "The area of rectangle is:  35\n",
      "\n",
      "Enter the height of Parallelepiped : 2\n",
      "the volume of Parallelepiped is:  70\n"
     ]
    }
   ],
   "source": [
    "class Rectangle:\n",
    "    def __init__(self, length , width):\n",
    "        self.length = length\n",
    "        self.width = width     \n",
    "    def Perimeter(self):\n",
    "        return 2*(self.length + self.width)\n",
    "    def Area(self):\n",
    "        return self.length*self.width   \n",
    "    \n",
    "    def display(self):\n",
    "        print(\"The length of rectangle is: \", self.length)\n",
    "        print(\"The width of rectangle is: \", self.width)\n",
    "        print(\"The perimeter of rectangle is: \", self.Perimeter())\n",
    "        print(\"The area of rectangle is: \", self.Area())\n",
    "        \n",
    "        \n",
    "class Parallelepiped(Rectangle):\n",
    "    def __init__(self, length, width , height):\n",
    "        Rectangle.__init__(self, length, width)\n",
    "        self.height = height\n",
    "        \n",
    "    def volume(self):\n",
    "        return self.length*self.width*self.height\n",
    "        \n",
    "\n",
    "length = int(input (\"Enter length of of rectangle : \"))\n",
    "width= int(input (\"Enter width of rectangle : \"))\n",
    "test_Rectangle = Rectangle(length , width)\n",
    "test_Rectangle.display()\n",
    "\n",
    "height = int(input (\"\\nEnter the height of Parallelepiped : \"))\n",
    "test_Parallelepiped = Parallelepiped(length , width, height)\n",
    "print(\"the volume of Parallelepiped is: \" , test_Parallelepiped.volume())"
   ]
  },
  {
   "cell_type": "code",
   "execution_count": null,
   "id": "0f44b578",
   "metadata": {},
   "outputs": [],
   "source": [
    "9. Create a Python class called BankAccount which represents a bank\n",
    "account, having as attributes: accountNumber (numeric type), name\n",
    "(name of the account owner as string type), balance.\n",
    "a. Create a constructor with parameters: accountNumber, name,\n",
    "balance.\n",
    "b. Create a Deposit() method which manages the deposit actions.\n",
    "c. Create a Withdrawal() method which manages withdrawals\n",
    "actions.\n",
    "d. Create an bankFees() method to apply the bank fees with a\n",
    "percentage of 5% of the balance account.\n",
    "e. Create a display() method to display account details.\n",
    "f. Give the complete code for the BankAccount class."
   ]
  },
  {
   "cell_type": "code",
   "execution_count": 10,
   "id": "31db30c0",
   "metadata": {},
   "outputs": [
    {
     "name": "stdout",
     "output_type": "stream",
     "text": [
      "Account Number :  987654321\n",
      "Account Name :  John\n",
      "Account Balance :  10200 Rs.\n"
     ]
    }
   ],
   "source": [
    "class BankAccount:\n",
    "    def __init__(self,accountNumber, name, balance):\n",
    "        self.accountNumber = accountNumber\n",
    "        self.name = name\n",
    "        self.balance = balance\n",
    "    def Deposit(self , deposit ):\n",
    "        self.balance = self.balance + deposit\n",
    "    def Withdrawal(self , withdraw):\n",
    "        if(self.balance < withdraw):\n",
    "            print(\"Insufficient balance, Cannot withdraw\")\n",
    "        else:\n",
    "            self.balance = self.balance - withdraw\n",
    "    def bankFees(self):\n",
    "        self.balance = (95/100)*self.balance\n",
    "    def display(self):\n",
    "        print(\"Account Number : \" , self.accountNumber)\n",
    "        print(\"Account Name : \" , self.name)\n",
    "        print(\"Account Balance : \" , self.balance ,\"Rs.\")\n",
    "        \n",
    "test_Account = BankAccount(987654321, \"John\" , 10000)\n",
    "test_Account.Deposit(700)\n",
    "test_Account.Withdrawal(500)\n",
    "test_Account.display()"
   ]
  },
  {
   "cell_type": "code",
   "execution_count": null,
   "id": "46caf1ef",
   "metadata": {},
   "outputs": [],
   "source": [
    "10. Create a base class rectangle with attributes length and breadth, methods\n",
    "area and perimeter.\n",
    "    a. Save the rectangle class as a python file rectangle.py file.\n",
    "    b. Open another python script and import the rectangle.py file.\n",
    "    c. In the newly created script derive a child class called Parallelepiped\n",
    "    class inheriting from the Rectangle class and with a height attribute\n",
    "    and another Volume() method to calculate the volume of the\n",
    "    Parallelepiped.\n",
    "    d. Now create objects for parent class and child class in newly created\n",
    "    script and access methods of parent class and child class."
   ]
  },
  {
   "cell_type": "code",
   "execution_count": 40,
   "id": "4bf51a8d",
   "metadata": {},
   "outputs": [
    {
     "name": "stdout",
     "output_type": "stream",
     "text": [
      "Enter length of of rectangle : 7\n",
      "Enter width of rectangle : 5\n"
     ]
    },
    {
     "ename": "AttributeError",
     "evalue": "module 'rectangle' has no attribute 'perimeter'",
     "output_type": "error",
     "traceback": [
      "\u001b[1;31m---------------------------------------------------------------------------\u001b[0m",
      "\u001b[1;31mAttributeError\u001b[0m                            Traceback (most recent call last)",
      "\u001b[1;32m~\\AppData\\Local\\Temp\\ipykernel_9292\\2571067416.py\u001b[0m in \u001b[0;36m<module>\u001b[1;34m\u001b[0m\n\u001b[0;32m      6\u001b[0m \u001b[0mwidth\u001b[0m\u001b[1;33m=\u001b[0m \u001b[0mint\u001b[0m\u001b[1;33m(\u001b[0m\u001b[0minput\u001b[0m \u001b[1;33m(\u001b[0m\u001b[1;34m\"Enter width of rectangle : \"\u001b[0m\u001b[1;33m)\u001b[0m\u001b[1;33m)\u001b[0m\u001b[1;33m\u001b[0m\u001b[1;33m\u001b[0m\u001b[0m\n\u001b[0;32m      7\u001b[0m \u001b[0mrectangle\u001b[0m\u001b[1;33m.\u001b[0m\u001b[0mrectangle\u001b[0m\u001b[1;33m(\u001b[0m\u001b[0mlength\u001b[0m \u001b[1;33m,\u001b[0m \u001b[0mwidth\u001b[0m\u001b[1;33m)\u001b[0m\u001b[1;33m\u001b[0m\u001b[1;33m\u001b[0m\u001b[0m\n\u001b[1;32m----> 8\u001b[1;33m \u001b[0mprint\u001b[0m\u001b[1;33m(\u001b[0m\u001b[0mrectangle\u001b[0m\u001b[1;33m.\u001b[0m\u001b[0mperimeter\u001b[0m\u001b[1;33m(\u001b[0m\u001b[1;33m)\u001b[0m\u001b[1;33m)\u001b[0m\u001b[1;33m\u001b[0m\u001b[1;33m\u001b[0m\u001b[0m\n\u001b[0m",
      "\u001b[1;31mAttributeError\u001b[0m: module 'rectangle' has no attribute 'perimeter'"
     ]
    }
   ],
   "source": [
    "import rectangle\n",
    "\n",
    "length = int(input (\"Enter length of of rectangle : \"))\n",
    "width= int(input (\"Enter width of rectangle : \"))\n",
    "rectangle.rectangle(length , width)\n",
    "print(rectangle.perimeter())"
   ]
  },
  {
   "cell_type": "code",
   "execution_count": null,
   "id": "cb06014d",
   "metadata": {},
   "outputs": [],
   "source": []
  }
 ],
 "metadata": {
  "kernelspec": {
   "display_name": "Python 3 (ipykernel)",
   "language": "python",
   "name": "python3"
  },
  "language_info": {
   "codemirror_mode": {
    "name": "ipython",
    "version": 3
   },
   "file_extension": ".py",
   "mimetype": "text/x-python",
   "name": "python",
   "nbconvert_exporter": "python",
   "pygments_lexer": "ipython3",
   "version": "3.9.13"
  }
 },
 "nbformat": 4,
 "nbformat_minor": 5
}
