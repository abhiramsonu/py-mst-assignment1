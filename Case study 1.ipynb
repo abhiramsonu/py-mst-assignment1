{
 "cells": [
  {
   "cell_type": "code",
   "execution_count": null,
   "id": "df66a202",
   "metadata": {},
   "outputs": [],
   "source": [
    "#1. A school has following rules for grading system:\n",
    "#a. Below 25 - F\n",
    "#b. 25 to 45 - E\n",
    "#c. 45 to 50 - D\n",
    "#d. 50 to 60 - C\n",
    "#e. 60 to 80 - B\n",
    "#f. Above 80 - A\n",
    "#Ask user to enter marks and print the corresponding grade."
   ]
  },
  {
   "cell_type": "code",
   "execution_count": 5,
   "id": "04ac16a0",
   "metadata": {},
   "outputs": [
    {
     "name": "stdout",
     "output_type": "stream",
     "text": [
      "Enter your marks : 75\n",
      "The grade is B\n"
     ]
    }
   ],
   "source": [
    "marks = int(input(\"Enter your marks : \"))\n",
    "if marks < 25:  \n",
    "   print(\"The grade is F\")\n",
    "elif marks >= 25 and marks < 45:  \n",
    "   print(\"The grade is E\")\n",
    "elif marks >= 45 and marks < 50:  \n",
    "   print(\"The grade is D\")\n",
    "elif marks >= 50 and marks < 60:  \n",
    "   print(\"The grade is C\")\n",
    "elif marks >= 60 and marks < 80:  \n",
    "   print(\"The grade is B\")\n",
    "else:  \n",
    "   print(\"The grade is A\")"
   ]
  },
  {
   "cell_type": "code",
   "execution_count": null,
   "id": "38be4094",
   "metadata": {},
   "outputs": [],
   "source": [
    "#2. You have a list of names. Create a new list which contains only the names\n",
    "# with non-repeating characters. "
   ]
  },
  {
   "cell_type": "code",
   "execution_count": 108,
   "id": "d3ec6b8b",
   "metadata": {},
   "outputs": [
    {
     "name": "stdout",
     "output_type": "stream",
     "text": [
      "7\n",
      "['John', 'Krishna', 'sonu']\n"
     ]
    }
   ],
   "source": [
    "lst=['John','Peter','Meera','Mini','Krishna','abhiram','sonu']\n",
    "rem_lst=[]\n",
    "l_lst=len(lst)\n",
    "print(l_lst)\n",
    "for f in range(0,l_lst):\n",
    "    str_t=lst[f]\n",
    "    count=1\n",
    "    for i in range(0,len(str_t)):\n",
    "        for j in range(i+1,len(str_t)):\n",
    "            if (str_t[j]==str_t[i]):\n",
    "                count=count+1\n",
    "                break\n",
    "    if (count>1):\n",
    "        rem_lst.append(str_t)\n",
    "res = [i for i in lst if i not in rem_lst]\n",
    "print(res)"
   ]
  },
  {
   "cell_type": "code",
   "execution_count": null,
   "id": "c941bc2b",
   "metadata": {},
   "outputs": [],
   "source": [
    "#3. Take values of length and breadth of a rectangle from user and check if it is square or not."
   ]
  },
  {
   "cell_type": "code",
   "execution_count": 9,
   "id": "0ed905b0",
   "metadata": {},
   "outputs": [
    {
     "name": "stdout",
     "output_type": "stream",
     "text": [
      "Enter Length : 5\n",
      "Enter Breadth : 5\n",
      "This is a square\n"
     ]
    }
   ],
   "source": [
    "length = int(input(\"Enter Length : \"))\n",
    "breadth = int(input(\"Enter Breadth : \"))\n",
    "\n",
    "if length==breadth:\n",
    "    print(\"This is a square\")\n",
    "else:\n",
    "    print(\"This is not a square\")"
   ]
  },
  {
   "cell_type": "code",
   "execution_count": null,
   "id": "16a09751",
   "metadata": {},
   "outputs": [],
   "source": [
    "#4. A student will not be allowed to sit in exam if his/her attendance is less than 75%. Take following input from user Number of classes held\n",
    "#Number of classes attended. And print percentage of class attended Is student is allowed to sit in exam or not."
   ]
  },
  {
   "cell_type": "code",
   "execution_count": 11,
   "id": "b5162591",
   "metadata": {},
   "outputs": [
    {
     "name": "stdout",
     "output_type": "stream",
     "text": [
      "Enter the number of classes held : 50\n",
      "Enter number of classes you attended : 37\n",
      "Attendance percentage is 74.0 Not eligible for exam\n"
     ]
    }
   ],
   "source": [
    "total = int(input(\"Enter the number of classes held : \"))\n",
    "att = int(input(\"Enter number of classes you attended : \"))\n",
    "per=(att/total)*100\n",
    "if per<75:\n",
    "    print(\"Attendance percentage is\",per,\"Not eligible for exam\")\n",
    "else:\n",
    "    print(\"Attendance percentage is\",per,\"Eligible for exam\")"
   ]
  },
  {
   "cell_type": "code",
   "execution_count": null,
   "id": "cb23ba6e",
   "metadata": {},
   "outputs": [],
   "source": [
    "5. Create a list by taking length of the list and elements of the list from user.\n",
    "Then find the sum of the elements of the list. Also create a new called even\n",
    "list which contains only even numbers from first list and odd list which\n",
    "contains odd numbers from the list. "
   ]
  },
  {
   "cell_type": "code",
   "execution_count": 16,
   "id": "9db63e09",
   "metadata": {},
   "outputs": [
    {
     "name": "stdout",
     "output_type": "stream",
     "text": [
      "Enter number of elements : 5\n",
      "Enter elements of the list : \n",
      "2\n",
      "6\n",
      "3\n",
      "1\n",
      "5\n",
      "Original List: [2, 6, 3, 1, 5]\n",
      "Sum of elements of first list :  17\n",
      "List of even numbered elements: [2, 6]\n",
      "List of odd numbered elements: [3, 1, 5]\n"
     ]
    }
   ],
   "source": [
    "lst = []\n",
    "even_l = []\n",
    "odd_l=[]\n",
    "s=0\n",
    "n = int(input(\"Enter number of elements : \"))\n",
    "print(\"Enter elements of the list : \")\n",
    "for i in range(0, n):\n",
    "    ele = int(input())\n",
    "    lst.append(ele)   \n",
    "for i in lst:\n",
    "    s=i+s\n",
    "    if(i%2==0):\n",
    "        even_l.append(i)\n",
    "    else:\n",
    "        odd_l.append(i)\n",
    "print(\"Original List:\",lst)\n",
    "print(\"Sum of elements of first list : \",s)\n",
    "print(\"List of even numbered elements:\",even_l)\n",
    "print(\"List of odd numbered elements:\",odd_l)"
   ]
  },
  {
   "cell_type": "code",
   "execution_count": null,
   "id": "1dd3a92e",
   "metadata": {},
   "outputs": [],
   "source": [
    "6. Create a sample chatbot for an ecommerce website."
   ]
  },
  {
   "cell_type": "code",
   "execution_count": 30,
   "id": "8d458286",
   "metadata": {
    "scrolled": true
   },
   "outputs": [
    {
     "name": "stdout",
     "output_type": "stream",
     "text": [
      "Welcome to Amazon.in\n",
      "How can I help?\n",
      "For details about products enter Product\n",
      "Enter Quit to stop\n",
      "\n",
      "Enter your option product\n",
      "Amazon.in provides all kinds of products for your life ranging from mobile phones, computers,books etc. for more details visit amazon.in/products or for specific product ask me about \n",
      "1.Books\n",
      "2.Mobiles\n",
      "3.Computers\n",
      "\n",
      "Enter your option books\n",
      "From the east to the west from the classics to the brand new amazon has all books for every needs, for more details, deals and offers visit wwww.amazon.in/books\n",
      "\n",
      "Enter your option show me mobile\n",
      "Yes we have new selections of smartphones which make your life more easier, for more details, deals and offers visit wwww.amazon.in/mobiles\n",
      "\n",
      "Enter your option quit\n",
      "See you later, and keep shopping on amazon.in\n"
     ]
    }
   ],
   "source": [
    "print('Welcome to Amazon.in')\n",
    "print('How can I help?\\nFor details about products enter Product\\nEnter Quit to stop\\n')\n",
    "\n",
    "while True:\n",
    "    x = input('Enter your option ')\n",
    "    x=x.lower()\n",
    "    if x =='quit':\n",
    "        print('See you later, and keep shopping on amazon.in')\n",
    "        break\n",
    "    y=x.split()\n",
    "    if len(y)==0:\n",
    "        print('Please give a valid input')\n",
    "    elif 'morning' in y:\n",
    "        print('Good morning')\n",
    "    elif 'product' in y:\n",
    "        print('Amazon.in provides all kinds of products for your life ranging from mobile phones, computers,books etc. for more details visit amazon.in/products or for specific product ask me about \\n1.Books\\n2.Mobiles\\n3.Computers\\n')\n",
    "    elif 'mobile' in y:\n",
    "        print('Yes we have new selections of smartphones which make your life more easier, for more details, deals and offers visit wwww.amazon.in/mobiles\\n')\n",
    "    elif 'computers'in y:\n",
    "        print('Yes we have laptops and computers of all the brands for your work, game and personal needs, for more details, deals and offers visit wwww.amazon.in/computers\\n')\n",
    "    elif 'books'in y:\n",
    "        print('From the east to the west from the classics to the brand new amazon has all books for every needs, for more details, deals and offers visit wwww.amazon.in/books\\n')\n",
    "    else:\n",
    "        print('Option not accesible, Please try another\\n')"
   ]
  },
  {
   "cell_type": "code",
   "execution_count": null,
   "id": "e30d9b3e",
   "metadata": {},
   "outputs": [],
   "source": [
    "7. Write a program to find the roots of a quadratic equation. Get the coefficients of quadratic equation ax^2+bx+c and display whether the roots\n",
    "are real and equal or real and distinct or roots are imaginary. You have to\n",
    "find the roots and display it as well. "
   ]
  },
  {
   "cell_type": "code",
   "execution_count": 1,
   "id": "f1fc2096",
   "metadata": {},
   "outputs": [
    {
     "name": "stdout",
     "output_type": "stream",
     "text": [
      "Quadratic function : (a * x^2) + b*x + c\n",
      "a: 1\n",
      "b: -7\n",
      "c: 10\n",
      "Roots are real and different \n",
      "5.0\n",
      "2.0\n"
     ]
    }
   ],
   "source": [
    "import math\n",
    "\n",
    "\n",
    "print(\"Quadratic function : (a * x^2) + b*x + c\")\n",
    "a = float(input(\"a: \"))\n",
    "b = float(input(\"b: \"))\n",
    "c = float(input(\"c: \"))\n",
    "\n",
    "if (a==0):\n",
    "    print(\"If A=0 then quadrtic eqatuion is invalid.\") \n",
    "else:\n",
    "    d = b * b - 4 * a * c\n",
    "    sqrt_val = math.sqrt(abs(d))\n",
    "    if d > 0:\n",
    "        print(\"Roots are real and distinct \")\n",
    "        print((-b + sqrt_val)/(2 * a))\n",
    "        print((-b - sqrt_val)/(2 * a))\n",
    "    elif d == 0:\n",
    "        print(\"Roots are real and equal\")\n",
    "        print(-b / (2*a))\n",
    "    else:  # d<0\n",
    "        print(\"Roots are complex\")\n",
    "        print(- b / (2*a), \" + i\", sqrt_val / (2 * a))\n",
    "        print(- b / (2*a), \" - i\", sqrt_val / (2 * a))"
   ]
  },
  {
   "cell_type": "code",
   "execution_count": null,
   "id": "66ea77c7",
   "metadata": {},
   "outputs": [],
   "source": [
    "8. Given a range of first 10 numbers, write a Python program to iterate from\n",
    "start number to the end number and print the sum of the current number\n",
    "and previous number. "
   ]
  },
  {
   "cell_type": "code",
   "execution_count": 8,
   "id": "dcd3e8d9",
   "metadata": {},
   "outputs": [
    {
     "name": "stdout",
     "output_type": "stream",
     "text": [
      "Printing sum of current and previous numbers from first  10 numbers\n",
      "Current Number 1 Previous Number  0  Sum:  1\n",
      "Current Number 2 Previous Number  1  Sum:  3\n",
      "Current Number 3 Previous Number  2  Sum:  5\n",
      "Current Number 4 Previous Number  3  Sum:  7\n",
      "Current Number 5 Previous Number  4  Sum:  9\n",
      "Current Number 6 Previous Number  5  Sum:  11\n",
      "Current Number 7 Previous Number  6  Sum:  13\n",
      "Current Number 8 Previous Number  7  Sum:  15\n",
      "Current Number 9 Previous Number  8  Sum:  17\n",
      "Current Number 10 Previous Number  9  Sum:  19\n"
     ]
    }
   ],
   "source": [
    "previous_num = 0\n",
    "n_range=10\n",
    "print(\"Printing sum of current and previous numbers from first \",n_range, \"numbers\")\n",
    "for i in range(1, n_range+1):\n",
    "    s = previous_num + i\n",
    "    print(\"Current Number\", i, \"Previous Number \", previous_num, \" Sum: \", s)\n",
    "    previous_num = i"
   ]
  },
  {
   "cell_type": "code",
   "execution_count": null,
   "id": "53953c97",
   "metadata": {},
   "outputs": [],
   "source": [
    "9. Write a Python program to find the prime numbers in a given range. Get\n",
    "the range from user and print prime numbers in that range."
   ]
  },
  {
   "cell_type": "code",
   "execution_count": 110,
   "id": "dff6f265",
   "metadata": {},
   "outputs": [
    {
     "name": "stdout",
     "output_type": "stream",
     "text": [
      "How many prime numbers the user wants to print : 15\n",
      "2 3 5 7 11 13 17 19 23 29 31 37 41 43 47 "
     ]
    }
   ],
   "source": [
    "n_range=int(input(\"How many prime numbers the user wants to print : \"))\n",
    "n=1\n",
    "i=2\n",
    "while ( n <= n_range):\n",
    "    f=0\n",
    "    for j in range(2,int(i/2)+1):\n",
    "        if(i%j==0):\n",
    "            f=1\n",
    "            break  \n",
    "    if(f==0):\n",
    "        print(i,end=' ')\n",
    "        n=n+1\n",
    "    i=i+1"
   ]
  },
  {
   "cell_type": "code",
   "execution_count": null,
   "id": "b5389467",
   "metadata": {},
   "outputs": [],
   "source": [
    "10. Write a Python program to print Fibonacci series in a given range. Get\n",
    "the range from user and print fibonacci numbers in that range."
   ]
  },
  {
   "cell_type": "code",
   "execution_count": 14,
   "id": "a3430bfc",
   "metadata": {},
   "outputs": [
    {
     "name": "stdout",
     "output_type": "stream",
     "text": [
      "How many numbers the user wants to print? 10\n",
      "The fibonacci sequence of the numbers is:\n",
      "0\n",
      "1\n",
      "1\n",
      "2\n",
      "3\n",
      "5\n",
      "8\n",
      "13\n",
      "21\n",
      "34\n"
     ]
    }
   ],
   "source": [
    "n_range = int(input (\"How many numbers the user wants to print : \"))    \n",
    "n1 = 0  \n",
    "n2 = 1\n",
    "i = 0  \n",
    "  \n",
    "if n_range <= 0:  \n",
    "    print (\"Please enter a positive number\")    \n",
    "else:  \n",
    "    print (\"The fibonacci sequence of the numbers is:\")  \n",
    "    while i < n_range:  \n",
    "        print(n1)  \n",
    "        n = n1 + n2    \n",
    "        n1 = n2  \n",
    "        n2 = n  \n",
    "        i += 1  "
   ]
  }
 ],
 "metadata": {
  "kernelspec": {
   "display_name": "Python 3 (ipykernel)",
   "language": "python",
   "name": "python3"
  },
  "language_info": {
   "codemirror_mode": {
    "name": "ipython",
    "version": 3
   },
   "file_extension": ".py",
   "mimetype": "text/x-python",
   "name": "python",
   "nbconvert_exporter": "python",
   "pygments_lexer": "ipython3",
   "version": "3.9.13"
  }
 },
 "nbformat": 4,
 "nbformat_minor": 5
}
