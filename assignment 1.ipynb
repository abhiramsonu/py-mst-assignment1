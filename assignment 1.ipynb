{
 "cells": [
  {
   "cell_type": "code",
   "execution_count": 1,
   "id": "9be23285",
   "metadata": {},
   "outputs": [],
   "source": [
    "#1. Write a Python Program to accept the details of a student like name, roll number and mark and display it."
   ]
  },
  {
   "cell_type": "code",
   "execution_count": 2,
   "id": "a105955e",
   "metadata": {},
   "outputs": [
    {
     "name": "stdout",
     "output_type": "stream",
     "text": [
      "Enter your name : abhiram\n",
      "Enter the roll number :21\n",
      "Enter the mark:75\n",
      "\n",
      "Name :  abhiram \n",
      "Roll No : 21 \n",
      "Mark :  75\n"
     ]
    }
   ],
   "source": [
    "name=input(\"Enter your name : \")\n",
    "roll_no=int(input(\"Enter the roll number :\"))\n",
    "mark=int(input(\"Enter the mark:\"))\n",
    "print(\"\\nName : \",name,\"\\nRoll No :\",roll_no,\"\\nMark : \",mark)"
   ]
  },
  {
   "cell_type": "code",
   "execution_count": 3,
   "id": "fd55fb36",
   "metadata": {},
   "outputs": [],
   "source": [
    "#2.Write a Python program to convert temperatures to and from Celsius\n",
    "#Fahrenheit. [Formula: c/5=f-32/9 where c=temperature in Celsius and f=\n",
    "#temperature in Fahrenheit.] "
   ]
  },
  {
   "cell_type": "code",
   "execution_count": 1,
   "id": "0a2be097",
   "metadata": {},
   "outputs": [
    {
     "name": "stdout",
     "output_type": "stream",
     "text": [
      "Temperature in farenheit :50\n",
      "Temperature in celsius : 10.0\n",
      "Temperature in celsius :10\n",
      "Temperature in farenheit : 50.0\n"
     ]
    }
   ],
   "source": [
    "f=int(input(\"Temperature in farenheit :\"))\n",
    "c=(f-32)*5/9\n",
    "print(\"Temperature in celsius :\",c)\n",
    "c=int(input(\"Temperature in celsius :\"))\n",
    "f=(c*9/5)+32\n",
    "print(\"Temperature in farenheit :\",f)"
   ]
  },
  {
   "cell_type": "code",
   "execution_count": 5,
   "id": "d7ac866b",
   "metadata": {},
   "outputs": [],
   "source": [
    "# 3.Write a Python program to accept two numbers from the user and display\n",
    "#its product."
   ]
  },
  {
   "cell_type": "code",
   "execution_count": 7,
   "id": "642b44e6",
   "metadata": {},
   "outputs": [
    {
     "name": "stdout",
     "output_type": "stream",
     "text": [
      "Enter the first number:5\n",
      "Enter the second number:4\n",
      "Product of the given numbers : 20\n"
     ]
    }
   ],
   "source": [
    "number_1=int(input(\"Enter the first number:\"))\n",
    "number_2=int(input(\"Enter the second number:\"))\n",
    "print(\"Product of the given numbers :\",number_1*number_2)"
   ]
  },
  {
   "cell_type": "code",
   "execution_count": 8,
   "id": "f2f972a9",
   "metadata": {},
   "outputs": [],
   "source": [
    "#4. Write a Python program to accept a string “Learn Python by Developing a\n",
    "#Website” and display the string like “Learn**Python** by Developing a **Website**”"
   ]
  },
  {
   "cell_type": "code",
   "execution_count": 12,
   "id": "7c18b826",
   "metadata": {},
   "outputs": [
    {
     "name": "stdout",
     "output_type": "stream",
     "text": [
      "Enter the string : Learn Python by Developing a Website\n",
      "Learn **Python** by Developing a **Website**\n"
     ]
    }
   ],
   "source": [
    "str1=input(\"Enter the string : \")\n",
    "s_str=str1.split()\n",
    "s_str[1]=\"**\"+s_str[1]+\"**\"\n",
    "s_str[5]=\"**\"+s_str[5]+\"**\"\n",
    "str1=\" \".join(s_str)\n",
    "print(str1)"
   ]
  },
  {
   "cell_type": "code",
   "execution_count": null,
   "id": "368525a6",
   "metadata": {},
   "outputs": [],
   "source": [
    "#5. Write a Python program to accept the radius of a circle and display its area."
   ]
  },
  {
   "cell_type": "code",
   "execution_count": 11,
   "id": "ac21c13c",
   "metadata": {},
   "outputs": [
    {
     "name": "stdout",
     "output_type": "stream",
     "text": [
      "Enter radius of circle:3\n",
      "Area of circle:  28.274333882308138\n"
     ]
    }
   ],
   "source": [
    "import math\n",
    "\n",
    "rad=int(input(\"Enter radius of circle:\"))\n",
    "area=math.pi*(rad**2)\n",
    "print(\"Area of circle: \", area)"
   ]
  },
  {
   "cell_type": "code",
   "execution_count": 13,
   "id": "4cbfced3",
   "metadata": {},
   "outputs": [],
   "source": [
    "#6. Python program to insert a number to any position in a list (Get the number to\n",
    "#be inserted and position from the user)"
   ]
  },
  {
   "cell_type": "code",
   "execution_count": 20,
   "id": "c6ee226d",
   "metadata": {},
   "outputs": [
    {
     "name": "stdout",
     "output_type": "stream",
     "text": [
      "This is the given list : [1, 4, 5, 77, 12, 63]\n",
      "Position to insert number :4\n",
      "Number to insert :88\n",
      "updated list : [1, 4, 5, 88, 77, 12, 63]\n"
     ]
    }
   ],
   "source": [
    "list1=[1,4,5,77,12,63]\n",
    "print(\"This is the given list :\",list1)\n",
    "pos=int(input(\"Position to insert number :\"))\n",
    "num=int(input(\"Number to insert :\"))\n",
    "list1.insert(pos-1, num)\n",
    "print(\"updated list :\",list1)"
   ]
  },
  {
   "cell_type": "code",
   "execution_count": null,
   "id": "fe3e8713",
   "metadata": {},
   "outputs": [],
   "source": [
    "#7. Write a program to rename a key city to a location in the following dictionary.\n",
    "#sample_dict = { \"name\": \"John\", \"age\":5, \"salary\": 8000, \"city\": \"New York\"}"
   ]
  },
  {
   "cell_type": "code",
   "execution_count": 14,
   "id": "00770aa7",
   "metadata": {},
   "outputs": [
    {
     "name": "stdout",
     "output_type": "stream",
     "text": [
      "{'name': 'John', 'age': 5, 'salary': 8000, 'location': 'New York'}\n"
     ]
    }
   ],
   "source": [
    "sample_dict = { \"name\": \"John\", \"age\":5, \"salary\": 8000, \"city\": \"New York\"}\n",
    "sample_dict['location'] = sample_dict.pop('city')\n",
    "print(sample_dict)"
   ]
  },
  {
   "cell_type": "code",
   "execution_count": null,
   "id": "44d7b761",
   "metadata": {},
   "outputs": [],
   "source": [
    "#8. Write a Python program to change Brad’s salary to 8500 in the following\n",
    "#dictionary."
   ]
  },
  {
   "cell_type": "code",
   "execution_count": 15,
   "id": "c8371bfe",
   "metadata": {},
   "outputs": [
    {
     "name": "stdout",
     "output_type": "stream",
     "text": [
      "{'emp1': {'name': 'John', 'salary': 7500}, 'emp2': {'name': 'Emma', 'salary': 8000}, 'emp3': {'name': 'Brad', 'salary': 8500}}\n"
     ]
    }
   ],
   "source": [
    "sample_dict = {\n",
    "    'emp1': {'name': 'John', 'salary': 7500},\n",
    "    'emp2': {'name': 'Emma', 'salary': 8000},\n",
    "    'emp3': {'name': 'Brad', 'salary': 500}\n",
    "}\n",
    "sample_dict['emp3']['salary']=8500\n",
    "print(sample_dict)"
   ]
  },
  {
   "cell_type": "code",
   "execution_count": null,
   "id": "86aaa5c6",
   "metadata": {},
   "outputs": [],
   "source": [
    "#9.Write a program to copy elements 43 and 54 from the following tuple into a\n",
    "# new tuple. Given: tuple1 = (10, 20, 43, 54, 56, 68)"
   ]
  },
  {
   "cell_type": "code",
   "execution_count": 17,
   "id": "b76fdadd",
   "metadata": {},
   "outputs": [
    {
     "name": "stdout",
     "output_type": "stream",
     "text": [
      "(43, 54)\n"
     ]
    }
   ],
   "source": [
    "tuple1 = (10, 20, 43, 54, 56, 68)\n",
    "tuple2=tuple1[2:4]\n",
    "print(tuple2)"
   ]
  },
  {
   "cell_type": "code",
   "execution_count": null,
   "id": "f540b8fc",
   "metadata": {},
   "outputs": [],
   "source": [
    "#10. Counts the number of occurrences of item 50 from a tuple\n",
    "#tuple1 = (50, 10, 60, 70, 50,83,567,50,81)"
   ]
  },
  {
   "cell_type": "code",
   "execution_count": 18,
   "id": "4663b1c2",
   "metadata": {},
   "outputs": [
    {
     "name": "stdout",
     "output_type": "stream",
     "text": [
      "the number 50 appears 3 times in the tuple\n"
     ]
    }
   ],
   "source": [
    "tuple1 = (50, 10, 60, 70, 50,83,567,50,81)\n",
    "n=tuple1.count(50)\n",
    "print(\"the number 50 appears\",n,\"times in the tuple\")"
   ]
  }
 ],
 "metadata": {
  "kernelspec": {
   "display_name": "Python 3 (ipykernel)",
   "language": "python",
   "name": "python3"
  },
  "language_info": {
   "codemirror_mode": {
    "name": "ipython",
    "version": 3
   },
   "file_extension": ".py",
   "mimetype": "text/x-python",
   "name": "python",
   "nbconvert_exporter": "python",
   "pygments_lexer": "ipython3",
   "version": "3.9.13"
  }
 },
 "nbformat": 4,
 "nbformat_minor": 5
}
